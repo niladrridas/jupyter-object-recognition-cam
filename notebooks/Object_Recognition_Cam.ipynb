import cv2
import matplotlib.pyplot as plt
import numpy as np

# Load pre-trained object detection model (example: MobileNet SSD)
prototxt_path = 'path/to/deploy.prototxt'
model_path = 'path/to/model.caffemodel'

try:
    net = cv2.dnn.readNetFromCaffe(prototxt_path, model_path)
except cv2.error as e:
    print(f"Error loading the pre-trained model: {e}")
    exit()

# Initialize webcam
cap = cv2.VideoCapture(0)

# Adjustable confidence threshold
confidence_threshold = 0.2

# Loop to capture frames and perform object recognition
while True:
    # Capture frame from webcam
    ret, frame = cap.read()

    # Display frame resolution
    frame_resolution = f"Resolution: {frame.shape[1]} x {frame.shape[0]}"
    cv2.putText(frame, frame_resolution, (10, 20), cv2.FONT_HERSHEY_SIMPLEX, 0.5, (255, 255, 255), 1)

    # Preprocess the frame for object detection
    blob = cv2.dnn.blobFromImage(frame, 0.007843, (300, 300), 127.5)

    # Set input to the model
    net.setInput(blob)
    
    # Perform inference and get predictions
    detections = net.forward()

    # Loop over the detections and draw bounding boxes
    for i in range(detections.shape[2]):
        confidence = detections[0, 0, i, 2]
        
        if confidence > confidence_threshold:
            box = detections[0, 0, i, 3:7] * np.array([frame.shape[1], frame.shape[0], frame.shape[1], frame.shape[0]])
            (startX, startY, endX, endY) = box.astype("int")

            # Draw colorful bounding box
            color = np.random.randint(0, 255, size=3)
            cv2.rectangle(frame, (startX, startY), (endX, endY), color.tolist(), 2)

            # Add specific object label
            label = f'Object {i+1}: {confidence:.2f}'
            cv2.putText(frame, label, (startX, startY - 15), cv2.FONT_HERSHEY_SIMPLEX, 0.5, color.tolist(), 2)

    # Display the frame with matplotlib
    plt.imshow(cv2.cvtColor(frame, cv2.COLOR_BGR2RGB))
    plt.axis('off')
    plt.show()

    # Break the loop on 'q' key press
    if cv2.waitKey(1) & 0xFF == ord('q'):
        break

# Release the webcam and close all windows
cap.release()
cv2.destroyAllWindows()
