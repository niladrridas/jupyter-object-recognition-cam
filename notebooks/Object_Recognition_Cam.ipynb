# Import necessary libraries
import cv2
import matplotlib.pyplot as plt
import numpy as np

# Load pre-trained object detection model (example: MobileNet SSD)
net = cv2.dnn.readNetFromCaffe('path/to/deploy.prototxt', 'path/to/model.caffemodel')

# Initialize webcam
cap = cv2.VideoCapture(0)

# Loop to capture frames and perform object recognition
while True:
    # Capture frame from webcam
    ret, frame = cap.read()

    # Preprocess the frame for object detection
    blob = cv2.dnn.blobFromImage(frame, 0.007843, (300, 300), 127.5)

    # Set input to the model
    net.setInput(blob)
    
    # Perform inference and get predictions
    detections = net.forward()

    # Loop over the detections and draw bounding boxes
    for i in range(detections.shape[2]):
        confidence = detections[0, 0, i, 2]
        
        if confidence > 0.2:  # Adjust confidence threshold as needed
            box = detections[0, 0, i, 3:7] * np.array([frame.shape[1], frame.shape[0], frame.shape[1], frame.shape[0]])
            (startX, startY, endX, endY) = box.astype("int")
            
            # Draw bounding box and label on the frame
            cv2.rectangle(frame, (startX, startY), (endX, endY), (0, 255, 0), 2)
            label = f'Object: {confidence:.2f}'
            cv2.putText(frame, label, (startX, startY - 15), cv2.FONT_HERSHEY_SIMPLEX, 0.5, (0, 255, 0), 2)

    # Display the frame with matplotlib
    plt.imshow(cv2.cvtColor(frame, cv2.COLOR_BGR2RGB))
    plt.axis('off')
    plt.show()

    # Break the loop on 'q' key press
    if cv2.waitKey(1) & 0xFF == ord('q'):
        break

# Release the webcam and close all windows
cap.release()
cv2.destroyAllWindows()
